{
 "cells": [
  {
   "cell_type": "code",
   "execution_count": null,
   "metadata": {
    "vscode": {
     "languageId": "r"
    }
   },
   "outputs": [],
   "source": [
    "#instalação de pacotes necessários\n",
    "#install.packages(\"e1071\")\n",
    "#install.packages(\"caret\")\n",
    "#install.packages(\"mlbench\")\n",
    "#install.packages(\"mice\")\n",
    "#install.packages(\"Metrics\")\n",
    "#install.packages(\"randomForest\")\n",
    "library(caret)\n",
    "library(mlbench)\n",
    "library(mice)\n",
    "library(Metrics)\n",
    "library(\"randomForest\")\n"
   ]
  },
  {
   "cell_type": "code",
   "execution_count": 3,
   "metadata": {
    "vscode": {
     "languageId": "r"
    }
   },
   "outputs": [
    {
     "data": {
      "text/html": [
       "<table class=\"dataframe\">\n",
       "<caption>A data.frame: 6 × 9</caption>\n",
       "<thead>\n",
       "\t<tr><th></th><th scope=col>num</th><th scope=col>GRE.Score</th><th scope=col>TOEFL.Score</th><th scope=col>University.Rating</th><th scope=col>SOP</th><th scope=col>LOR</th><th scope=col>CGPA</th><th scope=col>Research</th><th scope=col>ChanceOfAdmit</th></tr>\n",
       "\t<tr><th></th><th scope=col>&lt;int&gt;</th><th scope=col>&lt;int&gt;</th><th scope=col>&lt;int&gt;</th><th scope=col>&lt;int&gt;</th><th scope=col>&lt;dbl&gt;</th><th scope=col>&lt;dbl&gt;</th><th scope=col>&lt;dbl&gt;</th><th scope=col>&lt;int&gt;</th><th scope=col>&lt;dbl&gt;</th></tr>\n",
       "</thead>\n",
       "<tbody>\n",
       "\t<tr><th scope=row>1</th><td>1</td><td>337</td><td>118</td><td>4</td><td>4.5</td><td>4.5</td><td>9.65</td><td>1</td><td>0.92</td></tr>\n",
       "\t<tr><th scope=row>2</th><td>2</td><td>324</td><td>107</td><td>4</td><td>4.0</td><td>4.5</td><td>8.87</td><td>1</td><td>0.76</td></tr>\n",
       "\t<tr><th scope=row>3</th><td>3</td><td>316</td><td>104</td><td>3</td><td>3.0</td><td>3.5</td><td>8.00</td><td>1</td><td>0.72</td></tr>\n",
       "\t<tr><th scope=row>4</th><td>4</td><td>322</td><td>110</td><td>3</td><td>3.5</td><td>2.5</td><td>8.67</td><td>1</td><td>0.80</td></tr>\n",
       "\t<tr><th scope=row>5</th><td>5</td><td>314</td><td>103</td><td>2</td><td>2.0</td><td>3.0</td><td>8.21</td><td>0</td><td>0.65</td></tr>\n",
       "\t<tr><th scope=row>6</th><td>6</td><td>330</td><td>115</td><td>5</td><td>4.5</td><td>3.0</td><td>9.34</td><td>1</td><td>0.90</td></tr>\n",
       "</tbody>\n",
       "</table>\n"
      ],
      "text/latex": [
       "A data.frame: 6 × 9\n",
       "\\begin{tabular}{r|lllllllll}\n",
       "  & num & GRE.Score & TOEFL.Score & University.Rating & SOP & LOR & CGPA & Research & ChanceOfAdmit\\\\\n",
       "  & <int> & <int> & <int> & <int> & <dbl> & <dbl> & <dbl> & <int> & <dbl>\\\\\n",
       "\\hline\n",
       "\t1 & 1 & 337 & 118 & 4 & 4.5 & 4.5 & 9.65 & 1 & 0.92\\\\\n",
       "\t2 & 2 & 324 & 107 & 4 & 4.0 & 4.5 & 8.87 & 1 & 0.76\\\\\n",
       "\t3 & 3 & 316 & 104 & 3 & 3.0 & 3.5 & 8.00 & 1 & 0.72\\\\\n",
       "\t4 & 4 & 322 & 110 & 3 & 3.5 & 2.5 & 8.67 & 1 & 0.80\\\\\n",
       "\t5 & 5 & 314 & 103 & 2 & 2.0 & 3.0 & 8.21 & 0 & 0.65\\\\\n",
       "\t6 & 6 & 330 & 115 & 5 & 4.5 & 3.0 & 9.34 & 1 & 0.90\\\\\n",
       "\\end{tabular}\n"
      ],
      "text/markdown": [
       "\n",
       "A data.frame: 6 × 9\n",
       "\n",
       "| <!--/--> | num &lt;int&gt; | GRE.Score &lt;int&gt; | TOEFL.Score &lt;int&gt; | University.Rating &lt;int&gt; | SOP &lt;dbl&gt; | LOR &lt;dbl&gt; | CGPA &lt;dbl&gt; | Research &lt;int&gt; | ChanceOfAdmit &lt;dbl&gt; |\n",
       "|---|---|---|---|---|---|---|---|---|---|\n",
       "| 1 | 1 | 337 | 118 | 4 | 4.5 | 4.5 | 9.65 | 1 | 0.92 |\n",
       "| 2 | 2 | 324 | 107 | 4 | 4.0 | 4.5 | 8.87 | 1 | 0.76 |\n",
       "| 3 | 3 | 316 | 104 | 3 | 3.0 | 3.5 | 8.00 | 1 | 0.72 |\n",
       "| 4 | 4 | 322 | 110 | 3 | 3.5 | 2.5 | 8.67 | 1 | 0.80 |\n",
       "| 5 | 5 | 314 | 103 | 2 | 2.0 | 3.0 | 8.21 | 0 | 0.65 |\n",
       "| 6 | 6 | 330 | 115 | 5 | 4.5 | 3.0 | 9.34 | 1 | 0.90 |\n",
       "\n"
      ],
      "text/plain": [
       "  num GRE.Score TOEFL.Score University.Rating SOP LOR CGPA Research\n",
       "1 1   337       118         4                 4.5 4.5 9.65 1       \n",
       "2 2   324       107         4                 4.0 4.5 8.87 1       \n",
       "3 3   316       104         3                 3.0 3.5 8.00 1       \n",
       "4 4   322       110         3                 3.5 2.5 8.67 1       \n",
       "5 5   314       103         2                 2.0 3.0 8.21 0       \n",
       "6 6   330       115         5                 4.5 3.0 9.34 1       \n",
       "  ChanceOfAdmit\n",
       "1 0.92         \n",
       "2 0.76         \n",
       "3 0.72         \n",
       "4 0.80         \n",
       "5 0.65         \n",
       "6 0.90         "
      ]
     },
     "metadata": {},
     "output_type": "display_data"
    }
   ],
   "source": [
    "#carregamento da base\n",
    "dados <- read.csv(\"databases/9 - Admissao - Dados.csv\")\n",
    "head(dados)"
   ]
  },
  {
   "cell_type": "code",
   "execution_count": 4,
   "metadata": {
    "vscode": {
     "languageId": "r"
    }
   },
   "outputs": [],
   "source": [
    "#retirando coluna de id e separando em bases de treino e teste\n",
    "dados$num <- NULL\n",
    "set.seed(2034)\n",
    "indice <- createDataPartition(dados$ChanceOfAdmit, p = 0.8, list = FALSE)\n",
    "\n",
    "treino <- dados[indice, ]\n",
    "teste <- dados[-indice, ]"
   ]
  },
  {
   "cell_type": "code",
   "execution_count": 5,
   "metadata": {
    "vscode": {
     "languageId": "r"
    }
   },
   "outputs": [],
   "source": [
    "#funcoes das metricas usadas\n",
    "\n",
    "#rmse(observado, predito)\n",
    "#mae(observado, predito)\n",
    "#cor(observado, predito, method = \"pearson\")\n",
    "\n",
    "syx <- function(observado, predito, p) {\n",
    "  return(sqrt(sum((observado - predito)^2) / (length(observado) - p)))\n",
    "}\n",
    "\n",
    "r2 <- function(observado, predito){\n",
    "  return(1 - (sum((predito - observado)^2) / sum((observado - mean(observado))^2)))\n",
    "}"
   ]
  },
  {
   "cell_type": "markdown",
   "metadata": {},
   "source": [
    "### KNN\n",
    "---"
   ]
  },
  {
   "cell_type": "code",
   "execution_count": 6,
   "metadata": {
    "vscode": {
     "languageId": "r"
    }
   },
   "outputs": [
    {
     "data": {
      "text/plain": [
       "k-Nearest Neighbors \n",
       "\n",
       "402 samples\n",
       "  7 predictor\n",
       "\n",
       "No pre-processing\n",
       "Resampling: Bootstrapped (25 reps) \n",
       "Summary of sample sizes: 402, 402, 402, 402, 402, 402, ... \n",
       "Resampling results across tuning parameters:\n",
       "\n",
       "  k   RMSE        Rsquared   MAE       \n",
       "   1  0.09539771  0.5844600  0.07053102\n",
       "   3  0.08613130  0.6404006  0.06502697\n",
       "   5  0.08163155  0.6708952  0.06178498\n",
       "   7  0.07852178  0.6925019  0.05967449\n",
       "   9  0.07717264  0.7011436  0.05863885\n",
       "  10  0.07658834  0.7054456  0.05824290\n",
       "\n",
       "RMSE was used to select the optimal model using the smallest value.\n",
       "The final value used for the model was k = 10."
      ]
     },
     "metadata": {},
     "output_type": "display_data"
    },
    {
     "name": "stdout",
     "output_type": "stream",
     "text": [
      "R²: 0.7337591 \n",
      "Syx: 0.07730253 \n",
      "Pearson: 0.8578415 \n",
      "RMSE: 0.07449058 \n",
      "MAE: 0.05307143 \n"
     ]
    }
   ],
   "source": [
    "#treinando o modelo usando KNN e mostrando as metricas\n",
    "set.seed(2034)\n",
    "tune_grid <- expand.grid(k = c(1, 3, 5, 7, 9, 10))\n",
    "knn <- train(ChanceOfAdmit ~ ., data = treino, method = \"knn\", tuneGrid = tune_grid)\n",
    "knn\n",
    "\n",
    "#fazendo a predicaõ na base de teste\n",
    "predito_knn <- predict(knn, teste)\n",
    "\n",
    "#calculando as metricas\n",
    "r2_valor <- r2(teste$ChanceOfAdmit, predito_knn)\n",
    "syx_valor <- syx(teste$ChanceOfAdmit, predito_knn, ncol(teste) - 1)\n",
    "pearson_valor <- cor(teste$ChanceOfAdmit, predito_knn, method = \"pearson\")\n",
    "rmse_valor <- rmse(teste$ChanceOfAdmit, predito_knn)\n",
    "mae_valor <- mae(teste$ChanceOfAdmit, predito_knn)\n",
    "\n",
    "#apresentando as metricas\n",
    "cat(\"R²:\", r2_valor, \"\\n\")\n",
    "cat(\"Syx:\", syx_valor, \"\\n\")\n",
    "cat(\"Pearson:\", pearson_valor, \"\\n\")\n",
    "cat(\"RMSE:\", rmse_valor, \"\\n\")\n",
    "cat(\"MAE:\", mae_valor, \"\\n\")\n"
   ]
  },
  {
   "cell_type": "markdown",
   "metadata": {},
   "source": [
    "### RNA com hold-out e cross-validation\n",
    "---"
   ]
  },
  {
   "cell_type": "code",
   "execution_count": 7,
   "metadata": {
    "vscode": {
     "languageId": "r"
    }
   },
   "outputs": [
    {
     "name": "stderr",
     "output_type": "stream",
     "text": [
      "Warning message in nominalTrainWorkflow(x = x, y = y, wts = weights, info = trainInfo, :\n",
      "\"There were missing values in resampled performance measures.\"\n"
     ]
    },
    {
     "data": {
      "text/plain": [
       "Neural Network \n",
       "\n",
       "402 samples\n",
       "  7 predictor\n",
       "\n",
       "No pre-processing\n",
       "Resampling: Bootstrapped (25 reps) \n",
       "Summary of sample sizes: 402, 402, 402, 402, 402, 402, ... \n",
       "Resampling results across tuning parameters:\n",
       "\n",
       "  size  decay  RMSE        Rsquared    MAE       \n",
       "  1     0e+00  0.14032458  0.02877529  0.11324158\n",
       "  1     1e-04  0.12408230  0.78594186  0.09917273\n",
       "  1     1e-01  0.07300487  0.73193439  0.05481015\n",
       "  3     0e+00  0.13406649  0.52679406  0.10776591\n",
       "  3     1e-04  0.09129913  0.58344842  0.07041705\n",
       "  3     1e-01  0.07117772  0.74566238  0.05330257\n",
       "  5     0e+00  0.14032462         NaN  0.11324162\n",
       "  5     1e-04  0.09803328  0.60635345  0.07592078\n",
       "  5     1e-01  0.07050542  0.74927552  0.05261724\n",
       "\n",
       "RMSE was used to select the optimal model using the smallest value.\n",
       "The final values used for the model were size = 5 and decay = 0.1."
      ]
     },
     "metadata": {},
     "output_type": "display_data"
    },
    {
     "name": "stdout",
     "output_type": "stream",
     "text": [
      "R²: 0.7644812 \n",
      "Syx: 0.07270581 \n",
      "Pearson: 0.8902279 \n",
      "RMSE: 0.07006107 \n",
      "MAE: 0.05395539 \n"
     ]
    }
   ],
   "source": [
    "#treinando o modelo usando RNA com hold-out e mostrando as metricas\n",
    "set.seed(2034)\n",
    "rna <- train(ChanceOfAdmit ~ ., data = treino, method = \"nnet\", linout = TRUE, trace = FALSE)\n",
    "rna\n",
    "\n",
    "#fazendo a predicaõ na base de teste\n",
    "predito_rna <- predict(rna, teste)\n",
    "\n",
    "#calculando as metricas\n",
    "r2_valor <- r2(teste$ChanceOfAdmit, predito_rna)\n",
    "syx_valor <- syx(teste$ChanceOfAdmit, predito_rna, ncol(teste) - 1)\n",
    "pearson_valor <- cor(teste$ChanceOfAdmit, predito_rna, method = \"pearson\")\n",
    "rmse_valor <- rmse(teste$ChanceOfAdmit, predito_rna)\n",
    "mae_valor <- mae(teste$ChanceOfAdmit, predito_rna)\n",
    "\n",
    "#apresentando as metricas\n",
    "cat(\"R²:\", r2_valor, \"\\n\")\n",
    "cat(\"Syx:\", syx_valor, \"\\n\")\n",
    "cat(\"Pearson:\", pearson_valor, \"\\n\")\n",
    "cat(\"RMSE:\", rmse_valor, \"\\n\")\n",
    "cat(\"MAE:\", mae_valor, \"\\n\")"
   ]
  },
  {
   "cell_type": "code",
   "execution_count": 8,
   "metadata": {
    "vscode": {
     "languageId": "r"
    }
   },
   "outputs": [
    {
     "name": "stderr",
     "output_type": "stream",
     "text": [
      "Warning message in nominalTrainWorkflow(x = x, y = y, wts = weights, info = trainInfo, :\n",
      "\"There were missing values in resampled performance measures.\"\n"
     ]
    },
    {
     "data": {
      "text/plain": [
       "Neural Network \n",
       "\n",
       "402 samples\n",
       "  7 predictor\n",
       "\n",
       "No pre-processing\n",
       "Resampling: Cross-Validated (10 fold) \n",
       "Summary of sample sizes: 362, 362, 362, 362, 362, 362, ... \n",
       "Resampling results across tuning parameters:\n",
       "\n",
       "  size  decay  RMSE        Rsquared    MAE       \n",
       "  1     0e+00  0.14001171  0.03448521  0.11348967\n",
       "  1     1e-04  0.11612518  0.80740444  0.09170667\n",
       "  1     1e-01  0.07183904  0.74291857  0.05423172\n",
       "  3     0e+00  0.13242029  0.77579711  0.10617168\n",
       "  3     1e-04  0.10104476  0.48931921  0.07937919\n",
       "  3     1e-01  0.06870575  0.76634456  0.05200679\n",
       "  5     0e+00  0.14001171         NaN  0.11348968\n",
       "  5     1e-04  0.10870790  0.55039676  0.08647590\n",
       "  5     1e-01  0.06726759  0.77536286  0.05057755\n",
       "\n",
       "RMSE was used to select the optimal model using the smallest value.\n",
       "The final values used for the model were size = 5 and decay = 0.1."
      ]
     },
     "metadata": {},
     "output_type": "display_data"
    },
    {
     "name": "stdout",
     "output_type": "stream",
     "text": [
      "R²: 0.7835564 \n",
      "Syx: 0.06969935 \n",
      "Pearson: 0.8994475 \n",
      "RMSE: 0.06716397 \n",
      "MAE: 0.05079213 \n"
     ]
    }
   ],
   "source": [
    "#treinando o modelo usando RNA com crossvalidation e mostrando as metricas\n",
    "set.seed(2034)\n",
    "ctrl <- trainControl(method = \"cv\", number = 10)\n",
    "rna <- train(ChanceOfAdmit ~ ., data = treino, method = \"nnet\", linout = TRUE, trace = FALSE, trControl = ctrl)\n",
    "rna\n",
    "\n",
    "#fazendo a predicaõ na base de teste\n",
    "predito_rna <- predict(rna, teste)\n",
    "\n",
    "#calculando as metricas\n",
    "r2_valor <- r2(teste$ChanceOfAdmit, predito_rna)\n",
    "syx_valor <- syx(teste$ChanceOfAdmit, predito_rna, ncol(teste) - 1)\n",
    "pearson_valor <- cor(teste$ChanceOfAdmit, predito_rna, method = \"pearson\")\n",
    "rmse_valor <- rmse(teste$ChanceOfAdmit, predito_rna)\n",
    "mae_valor <- mae(teste$ChanceOfAdmit, predito_rna)\n",
    "\n",
    "#apresentando as metricas\n",
    "cat(\"R²:\", r2_valor, \"\\n\")\n",
    "cat(\"Syx:\", syx_valor, \"\\n\")\n",
    "cat(\"Pearson:\", pearson_valor, \"\\n\")\n",
    "cat(\"RMSE:\", rmse_valor, \"\\n\")\n",
    "cat(\"MAE:\", mae_valor, \"\\n\")"
   ]
  },
  {
   "cell_type": "markdown",
   "metadata": {},
   "source": [
    "### SVM com hold-out e crossvalidation\n",
    "---"
   ]
  },
  {
   "cell_type": "code",
   "execution_count": 9,
   "metadata": {
    "vscode": {
     "languageId": "r"
    }
   },
   "outputs": [
    {
     "data": {
      "text/plain": [
       "Support Vector Machines with Radial Basis Function Kernel \n",
       "\n",
       "402 samples\n",
       "  7 predictor\n",
       "\n",
       "No pre-processing\n",
       "Resampling: Bootstrapped (25 reps) \n",
       "Summary of sample sizes: 402, 402, 402, 402, 402, 402, ... \n",
       "Resampling results across tuning parameters:\n",
       "\n",
       "  C    sigma  RMSE        Rsquared   MAE       \n",
       "    1  0.015  0.06346808  0.8018751  0.04486103\n",
       "    1  0.021  0.06345164  0.8015610  0.04485037\n",
       "    1  0.200  0.06875863  0.7632965  0.04861218\n",
       "    2  0.015  0.06313846  0.8032184  0.04461294\n",
       "    2  0.021  0.06332093  0.8017887  0.04468783\n",
       "    2  0.200  0.07095756  0.7481746  0.05014748\n",
       "   10  0.015  0.06345806  0.8001990  0.04474193\n",
       "   10  0.021  0.06394312  0.7971513  0.04486709\n",
       "   10  0.200  0.08122793  0.6840885  0.05753888\n",
       "   50  0.015  0.06477869  0.7914230  0.04543526\n",
       "   50  0.021  0.06579458  0.7847843  0.04604196\n",
       "   50  0.200  0.09723968  0.5889766  0.06949631\n",
       "  100  0.015  0.06545685  0.7867745  0.04583958\n",
       "  100  0.021  0.06698799  0.7770994  0.04700667\n",
       "  100  0.200  0.10576636  0.5433777  0.07511292\n",
       "\n",
       "RMSE was used to select the optimal model using the smallest value.\n",
       "The final values used for the model were sigma = 0.015 and C = 2."
      ]
     },
     "metadata": {},
     "output_type": "display_data"
    },
    {
     "name": "stdout",
     "output_type": "stream",
     "text": [
      "R²: 0.8308444 \n",
      "Syx: 0.06161685 \n",
      "Pearson: 0.9138469 \n",
      "RMSE: 0.05937548 \n",
      "MAE: 0.03855493 \n"
     ]
    }
   ],
   "source": [
    "#treinando o modelo usando svm com hold-out e mostrando as metricas\n",
    "set.seed(2034)\n",
    "tune_grid <- expand.grid(C = c(1, 2, 10, 50, 100), sigma = c(.021, .015, 0.2))\n",
    "\n",
    "svm <- train(ChanceOfAdmit ~ ., data = treino, method = \"svmRadial\", tuneGrid = tune_grid)\n",
    "svm\n",
    "\n",
    "#fazendo a predicaõ na base de teste\n",
    "predito_svm <- predict(svm, teste)\n",
    "\n",
    "#calculando as metricas\n",
    "r2_valor <- r2(teste$ChanceOfAdmit, predito_svm)\n",
    "syx_valor <- syx(teste$ChanceOfAdmit, predito_svm, ncol(teste) - 1)\n",
    "pearson_valor <- cor(teste$ChanceOfAdmit, predito_svm, method = \"pearson\")\n",
    "rmse_valor <- rmse(teste$ChanceOfAdmit, predito_svm)\n",
    "mae_valor <- mae(teste$ChanceOfAdmit, predito_svm)\n",
    "\n",
    "#apresentando as metricas\n",
    "cat(\"R²:\", r2_valor, \"\\n\")\n",
    "cat(\"Syx:\", syx_valor, \"\\n\")\n",
    "cat(\"Pearson:\", pearson_valor, \"\\n\")\n",
    "cat(\"RMSE:\", rmse_valor, \"\\n\")\n",
    "cat(\"MAE:\", mae_valor, \"\\n\")"
   ]
  },
  {
   "cell_type": "code",
   "execution_count": 10,
   "metadata": {
    "vscode": {
     "languageId": "r"
    }
   },
   "outputs": [
    {
     "data": {
      "text/plain": [
       "Support Vector Machines with Radial Basis Function Kernel \n",
       "\n",
       "402 samples\n",
       "  7 predictor\n",
       "\n",
       "No pre-processing\n",
       "Resampling: Cross-Validated (10 fold) \n",
       "Summary of sample sizes: 362, 362, 362, 362, 362, 362, ... \n",
       "Resampling results across tuning parameters:\n",
       "\n",
       "  C    sigma  RMSE        Rsquared   MAE       \n",
       "    1  0.015  0.06145847  0.8149835  0.04361310\n",
       "    1  0.021  0.06128694  0.8160212  0.04338731\n",
       "    1  0.200  0.06256773  0.8077601  0.04431178\n",
       "    2  0.015  0.06094677  0.8176612  0.04305197\n",
       "    2  0.021  0.06068989  0.8192443  0.04280753\n",
       "    2  0.200  0.06368395  0.7998517  0.04491995\n",
       "   10  0.015  0.06036552  0.8207167  0.04282773\n",
       "   10  0.021  0.06054174  0.8198753  0.04271420\n",
       "   10  0.200  0.06995668  0.7589076  0.04962527\n",
       "   50  0.015  0.06030815  0.8201683  0.04229341\n",
       "   50  0.021  0.06055137  0.8180904  0.04221130\n",
       "   50  0.200  0.08620734  0.6696158  0.06251552\n",
       "  100  0.015  0.06051617  0.8182944  0.04221556\n",
       "  100  0.021  0.06133946  0.8138582  0.04270760\n",
       "  100  0.200  0.09999119  0.5972282  0.07183225\n",
       "\n",
       "RMSE was used to select the optimal model using the smallest value.\n",
       "The final values used for the model were sigma = 0.015 and C = 50."
      ]
     },
     "metadata": {},
     "output_type": "display_data"
    },
    {
     "name": "stdout",
     "output_type": "stream",
     "text": [
      "R²: 0.8208342 \n",
      "Syx: 0.06341381 \n",
      "Pearson: 0.9071802 \n",
      "RMSE: 0.06110708 \n",
      "MAE: 0.0412044 \n"
     ]
    }
   ],
   "source": [
    "#treinando o modelo usando svm com crossvalidation e mostrando as metricas\n",
    "set.seed(2034)\n",
    "tune_grid <- expand.grid(C = c(1, 2, 10, 50, 100), sigma = c(.021, .015, 0.2))\n",
    "ctrl <- trainControl(method = \"cv\", number = 10)\n",
    "\n",
    "svm <- train(ChanceOfAdmit ~ ., data = treino, method = \"svmRadial\", tuneGrid = tune_grid, trControl = ctrl)\n",
    "svm\n",
    "\n",
    "#fazendo a predicaõ na base de teste\n",
    "predito_svm <- predict(svm, teste)\n",
    "\n",
    "#calculando as metricas\n",
    "r2_valor <- r2(teste$ChanceOfAdmit, predito_svm)\n",
    "syx_valor <- syx(teste$ChanceOfAdmit, predito_svm, ncol(teste) - 1)\n",
    "pearson_valor <- cor(teste$ChanceOfAdmit, predito_svm, method = \"pearson\")\n",
    "rmse_valor <- rmse(teste$ChanceOfAdmit, predito_svm)\n",
    "mae_valor <- mae(teste$ChanceOfAdmit, predito_svm)\n",
    "\n",
    "#apresentando as metricas\n",
    "cat(\"R²:\", r2_valor, \"\\n\")\n",
    "cat(\"Syx:\", syx_valor, \"\\n\")\n",
    "cat(\"Pearson:\", pearson_valor, \"\\n\")\n",
    "cat(\"RMSE:\", rmse_valor, \"\\n\")\n",
    "cat(\"MAE:\", mae_valor, \"\\n\")"
   ]
  },
  {
   "cell_type": "markdown",
   "metadata": {},
   "source": [
    "### Random Forest com hold-out e Crossvalidation\n",
    "---"
   ]
  },
  {
   "cell_type": "code",
   "execution_count": 11,
   "metadata": {
    "vscode": {
     "languageId": "r"
    }
   },
   "outputs": [
    {
     "data": {
      "text/plain": [
       "Random Forest \n",
       "\n",
       "402 samples\n",
       "  7 predictor\n",
       "\n",
       "No pre-processing\n",
       "Resampling: Bootstrapped (25 reps) \n",
       "Summary of sample sizes: 402, 402, 402, 402, 402, 402, ... \n",
       "Resampling results across tuning parameters:\n",
       "\n",
       "  mtry  RMSE        Rsquared   MAE       \n",
       "  2     0.06486753  0.7879264  0.04685562\n",
       "  4     0.06547994  0.7838329  0.04727385\n",
       "  7     0.06778651  0.7696270  0.04896324\n",
       "\n",
       "RMSE was used to select the optimal model using the smallest value.\n",
       "The final value used for the model was mtry = 2."
      ]
     },
     "metadata": {},
     "output_type": "display_data"
    },
    {
     "name": "stdout",
     "output_type": "stream",
     "text": [
      "R²: 0.8136367 \n",
      "Syx: 0.06467502 \n",
      "Pearson: 0.9061176 \n",
      "RMSE: 0.06232241 \n",
      "MAE: 0.04263619 \n"
     ]
    }
   ],
   "source": [
    "#treinando o modelo usando svm com hold-out e mostrando as metricas\n",
    "set.seed(2034)\n",
    "\n",
    "rf <- train(ChanceOfAdmit ~ ., data = treino, method = \"rf\")\n",
    "rf\n",
    "\n",
    "#fazendo a predicaõ na base de teste\n",
    "predito_rf <- predict(rf, teste)\n",
    "\n",
    "#calculando as metricas\n",
    "r2_valor <- r2(teste$ChanceOfAdmit, predito_rf)\n",
    "syx_valor <- syx(teste$ChanceOfAdmit, predito_rf, ncol(teste) - 1)\n",
    "pearson_valor <- cor(teste$ChanceOfAdmit, predito_rf, method = \"pearson\")\n",
    "rmse_valor <- rmse(teste$ChanceOfAdmit, predito_rf)\n",
    "mae_valor <- mae(teste$ChanceOfAdmit, predito_rf)\n",
    "\n",
    "#apresentando as metricas\n",
    "cat(\"R²:\", r2_valor, \"\\n\")\n",
    "cat(\"Syx:\", syx_valor, \"\\n\")\n",
    "cat(\"Pearson:\", pearson_valor, \"\\n\")\n",
    "cat(\"RMSE:\", rmse_valor, \"\\n\")\n",
    "cat(\"MAE:\", mae_valor, \"\\n\")"
   ]
  },
  {
   "cell_type": "code",
   "execution_count": 12,
   "metadata": {
    "vscode": {
     "languageId": "r"
    }
   },
   "outputs": [
    {
     "data": {
      "text/plain": [
       "Random Forest \n",
       "\n",
       "402 samples\n",
       "  7 predictor\n",
       "\n",
       "No pre-processing\n",
       "Resampling: Cross-Validated (10 fold) \n",
       "Summary of sample sizes: 362, 362, 362, 362, 362, 362, ... \n",
       "Resampling results across tuning parameters:\n",
       "\n",
       "  mtry  RMSE        Rsquared   MAE       \n",
       "  2     0.06165044  0.8107474  0.04433226\n",
       "  4     0.06181797  0.8097311  0.04443413\n",
       "  7     0.06376245  0.7981134  0.04580971\n",
       "\n",
       "RMSE was used to select the optimal model using the smallest value.\n",
       "The final value used for the model was mtry = 2."
      ]
     },
     "metadata": {},
     "output_type": "display_data"
    },
    {
     "name": "stdout",
     "output_type": "stream",
     "text": [
      "R²: 0.8115637 \n",
      "Syx: 0.06503372 \n",
      "Pearson: 0.9051472 \n",
      "RMSE: 0.06266806 \n",
      "MAE: 0.0428898 \n"
     ]
    }
   ],
   "source": [
    "#treinando o modelo usando svm com crossvalidarion e mostrando as metricas\n",
    "set.seed(2034)\n",
    "ctrl <- trainControl(method = \"cv\", number = 10)\n",
    "rf <- train(ChanceOfAdmit ~ ., data = treino, method = \"rf\", trControl = ctrl)\n",
    "rf\n",
    "\n",
    "#fazendo a predicaõ na base de teste\n",
    "predito_rf <- predict(rf, teste)\n",
    "\n",
    "#calculando as metricas\n",
    "r2_valor <- r2(teste$ChanceOfAdmit, predito_rf)\n",
    "syx_valor <- syx(teste$ChanceOfAdmit, predito_rf, ncol(teste) - 1)\n",
    "pearson_valor <- cor(teste$ChanceOfAdmit, predito_rf, method = \"pearson\")\n",
    "rmse_valor <- rmse(teste$ChanceOfAdmit, predito_rf)\n",
    "mae_valor <- mae(teste$ChanceOfAdmit, predito_rf)\n",
    "\n",
    "#apresentando as metricas\n",
    "cat(\"R²:\", r2_valor, \"\\n\")\n",
    "cat(\"Syx:\", syx_valor, \"\\n\")\n",
    "cat(\"Pearson:\", pearson_valor, \"\\n\")\n",
    "cat(\"RMSE:\", rmse_valor, \"\\n\")\n",
    "cat(\"MAE:\", mae_valor, \"\\n\")"
   ]
  }
 ],
 "metadata": {
  "kernelspec": {
   "display_name": "R",
   "language": "R",
   "name": "ir"
  },
  "language_info": {
   "codemirror_mode": "r",
   "file_extension": ".r",
   "mimetype": "text/x-r-source",
   "name": "R",
   "pygments_lexer": "r",
   "version": "4.4.1"
  }
 },
 "nbformat": 4,
 "nbformat_minor": 2
}
