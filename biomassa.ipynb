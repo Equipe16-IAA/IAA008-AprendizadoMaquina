{
 "cells": [
  {
   "cell_type": "code",
   "execution_count": 3,
   "metadata": {
    "vscode": {
     "languageId": "r"
    }
   },
   "outputs": [],
   "source": [
    "#instalação de pacotes necessários\n",
    "#install.packages(\"e1071\")\n",
    "#install.packages(\"caret\")\n",
    "#install.packages(\"mlbench\")\n",
    "#install.packages(\"mice\")\n",
    "#install.packages(\"Metrics\")\n",
    "#install.packages(\"randomForest\")\n",
    "library(caret)\n",
    "library(mlbench)\n",
    "library(mice)\n",
    "library(Metrics)\n",
    "library(\"randomForest\")\n"
   ]
  },
  {
   "cell_type": "code",
   "execution_count": 4,
   "metadata": {
    "vscode": {
     "languageId": "r"
    }
   },
   "outputs": [
    {
     "data": {
      "text/html": [
       "<table class=\"dataframe\">\n",
       "<caption>A data.frame: 6 × 4</caption>\n",
       "<thead>\n",
       "\t<tr><th></th><th scope=col>dap</th><th scope=col>h</th><th scope=col>Me</th><th scope=col>biomassa</th></tr>\n",
       "\t<tr><th></th><th scope=col>&lt;dbl&gt;</th><th scope=col>&lt;dbl&gt;</th><th scope=col>&lt;dbl&gt;</th><th scope=col>&lt;dbl&gt;</th></tr>\n",
       "</thead>\n",
       "<tbody>\n",
       "\t<tr><th scope=row>1</th><td> 6.4</td><td>5.0</td><td>1.04</td><td> 7.07</td></tr>\n",
       "\t<tr><th scope=row>2</th><td> 7.3</td><td>5.0</td><td>1.04</td><td>10.30</td></tr>\n",
       "\t<tr><th scope=row>3</th><td> 7.8</td><td>5.5</td><td>1.04</td><td>13.90</td></tr>\n",
       "\t<tr><th scope=row>4</th><td> 9.2</td><td>7.6</td><td>1.04</td><td>18.61</td></tr>\n",
       "\t<tr><th scope=row>5</th><td> 9.9</td><td>8.2</td><td>1.04</td><td>30.97</td></tr>\n",
       "\t<tr><th scope=row>6</th><td>10.6</td><td>8.7</td><td>1.04</td><td>46.44</td></tr>\n",
       "</tbody>\n",
       "</table>\n"
      ],
      "text/latex": [
       "A data.frame: 6 × 4\n",
       "\\begin{tabular}{r|llll}\n",
       "  & dap & h & Me & biomassa\\\\\n",
       "  & <dbl> & <dbl> & <dbl> & <dbl>\\\\\n",
       "\\hline\n",
       "\t1 &  6.4 & 5.0 & 1.04 &  7.07\\\\\n",
       "\t2 &  7.3 & 5.0 & 1.04 & 10.30\\\\\n",
       "\t3 &  7.8 & 5.5 & 1.04 & 13.90\\\\\n",
       "\t4 &  9.2 & 7.6 & 1.04 & 18.61\\\\\n",
       "\t5 &  9.9 & 8.2 & 1.04 & 30.97\\\\\n",
       "\t6 & 10.6 & 8.7 & 1.04 & 46.44\\\\\n",
       "\\end{tabular}\n"
      ],
      "text/markdown": [
       "\n",
       "A data.frame: 6 × 4\n",
       "\n",
       "| <!--/--> | dap &lt;dbl&gt; | h &lt;dbl&gt; | Me &lt;dbl&gt; | biomassa &lt;dbl&gt; |\n",
       "|---|---|---|---|---|\n",
       "| 1 |  6.4 | 5.0 | 1.04 |  7.07 |\n",
       "| 2 |  7.3 | 5.0 | 1.04 | 10.30 |\n",
       "| 3 |  7.8 | 5.5 | 1.04 | 13.90 |\n",
       "| 4 |  9.2 | 7.6 | 1.04 | 18.61 |\n",
       "| 5 |  9.9 | 8.2 | 1.04 | 30.97 |\n",
       "| 6 | 10.6 | 8.7 | 1.04 | 46.44 |\n",
       "\n"
      ],
      "text/plain": [
       "  dap  h   Me   biomassa\n",
       "1  6.4 5.0 1.04  7.07   \n",
       "2  7.3 5.0 1.04 10.30   \n",
       "3  7.8 5.5 1.04 13.90   \n",
       "4  9.2 7.6 1.04 18.61   \n",
       "5  9.9 8.2 1.04 30.97   \n",
       "6 10.6 8.7 1.04 46.44   "
      ]
     },
     "metadata": {},
     "output_type": "display_data"
    }
   ],
   "source": [
    "#carregamento da base\n",
    "dados <- read.csv(\"databases/5 - Biomassa - Dados.csv\")\n",
    "head(dados)"
   ]
  },
  {
   "cell_type": "code",
   "execution_count": 5,
   "metadata": {
    "vscode": {
     "languageId": "r"
    }
   },
   "outputs": [],
   "source": [
    "#retirando coluna de id e separando em bases de treino e teste\n",
    "set.seed(2034)\n",
    "indice <- createDataPartition(dados$biomassa, p = 0.8, list = FALSE)\n",
    "\n",
    "treino <- dados[indice, ]\n",
    "teste <- dados[-indice, ]"
   ]
  },
  {
   "cell_type": "code",
   "execution_count": 6,
   "metadata": {
    "vscode": {
     "languageId": "r"
    }
   },
   "outputs": [],
   "source": [
    "#funcoes das metricas usadas\n",
    "\n",
    "\n",
    "syx <- function(observado, predito, p) {\n",
    "  return(sqrt(sum((observado - predito)^2) / (length(observado) - p)))\n",
    "}\n",
    "\n",
    "r2 <- function(observado, predito){\n",
    "  return(1 - (sum((predito - observado)^2) / sum((observado - mean(observado))^2)))\n",
    "}\n",
    "\n",
    "metricas <- function(observado, predito, p) {\n",
    "  #calculando as metricas\n",
    "  r2_valor <- r2(observado, predito)\n",
    "  syx_valor <- syx(observado, predito, p)\n",
    "  pearson_valor <- cor(observado, predito, method = \"pearson\")\n",
    "  rmse_valor <- rmse(observado, predito)\n",
    "  mae_valor <- mae(observado, predito)\n",
    "\n",
    "  #apresentando as metricas\n",
    "  cat(\"R²:\", r2_valor, \"\\n\")\n",
    "  cat(\"Syx:\", syx_valor, \"\\n\")\n",
    "  cat(\"Pearson:\", pearson_valor, \"\\n\")\n",
    "  cat(\"RMSE:\", rmse_valor, \"\\n\")\n",
    "  cat(\"MAE:\", mae_valor, \"\\n\")\n",
    "\n",
    "}\n"
   ]
  },
  {
   "cell_type": "markdown",
   "metadata": {},
   "source": [
    "### KNN\n",
    "---"
   ]
  },
  {
   "cell_type": "code",
   "execution_count": 7,
   "metadata": {
    "vscode": {
     "languageId": "r"
    }
   },
   "outputs": [
    {
     "data": {
      "text/plain": [
       "k-Nearest Neighbors \n",
       "\n",
       "240 samples\n",
       "  3 predictor\n",
       "\n",
       "No pre-processing\n",
       "Resampling: Bootstrapped (25 reps) \n",
       "Summary of sample sizes: 240, 240, 240, 240, 240, 240, ... \n",
       "Resampling results across tuning parameters:\n",
       "\n",
       "  k   RMSE      Rsquared   MAE     \n",
       "   1  444.5298  0.8612377  128.7392\n",
       "   3  393.6790  0.8785611  121.3048\n",
       "   5  417.9987  0.8668940  122.5961\n",
       "   7  436.2986  0.8564698  126.4328\n",
       "   9  459.1026  0.8377583  130.1570\n",
       "  10  470.2587  0.8297000  131.0792\n",
       "\n",
       "RMSE was used to select the optimal model using the smallest value.\n",
       "The final value used for the model was k = 3."
      ]
     },
     "metadata": {},
     "output_type": "display_data"
    },
    {
     "name": "stdout",
     "output_type": "stream",
     "text": [
      "R²: 0.6579974 \n",
      "Syx: 1448.066 \n",
      "Pearson: 0.959401 \n",
      "RMSE: 1411.4 \n",
      "MAE: 233.0013 \n"
     ]
    }
   ],
   "source": [
    "#treinando o modelo usando KNN e mostrando as metricas\n",
    "set.seed(2034)\n",
    "tune_grid <- expand.grid(k = c(1, 3, 5, 7, 9, 10))\n",
    "knn <- train(biomassa ~ ., data = treino, method = \"knn\", tuneGrid = tune_grid)\n",
    "knn\n",
    "\n",
    "#fazendo a predicaõ na base de teste\n",
    "predito_knn <- predict(knn, teste)\n",
    "\n",
    "#apresentando as metricas\n",
    "\n",
    "metricas(teste$biomassa, predito_knn, ncol(teste) - 1)\n"
   ]
  },
  {
   "cell_type": "markdown",
   "metadata": {},
   "source": [
    "### RNA com hold-out e cross-validation\n",
    "---"
   ]
  },
  {
   "cell_type": "code",
   "execution_count": 8,
   "metadata": {
    "vscode": {
     "languageId": "r"
    }
   },
   "outputs": [
    {
     "name": "stderr",
     "output_type": "stream",
     "text": [
      "Warning message in nominalTrainWorkflow(x = x, y = y, wts = weights, info = trainInfo, :\n",
      "\"There were missing values in resampled performance measures.\"\n"
     ]
    },
    {
     "data": {
      "text/plain": [
       "Neural Network \n",
       "\n",
       "240 samples\n",
       "  3 predictor\n",
       "\n",
       "No pre-processing\n",
       "Resampling: Bootstrapped (25 reps) \n",
       "Summary of sample sizes: 240, 240, 240, 240, 240, 240, ... \n",
       "Resampling results across tuning parameters:\n",
       "\n",
       "  size  decay  RMSE      Rsquared   MAE     \n",
       "  1     0e+00  931.9306  0.4592234  423.9288\n",
       "  1     1e-04  933.1017  0.5895797  430.1406\n",
       "  1     1e-01  642.6081  0.6613617  283.7577\n",
       "  3     0e+00  899.1358  0.2790738  420.2962\n",
       "  3     1e-04  842.0807  0.5535275  386.3472\n",
       "  3     1e-01  545.2353  0.7531263  206.5807\n",
       "  5     0e+00  940.5061  0.3108315  433.7675\n",
       "  5     1e-04  933.3567  0.2002978  423.6672\n",
       "  5     1e-01  632.4257  0.6337422  249.9103\n",
       "\n",
       "RMSE was used to select the optimal model using the smallest value.\n",
       "The final values used for the model were size = 3 and decay = 0.1."
      ]
     },
     "metadata": {},
     "output_type": "display_data"
    },
    {
     "name": "stdout",
     "output_type": "stream",
     "text": [
      "R²: 0.7171674 \n",
      "Syx: 1316.856 \n",
      "Pearson: 0.9785522 \n",
      "RMSE: 1283.513 \n",
      "MAE: 281.0424 \n"
     ]
    }
   ],
   "source": [
    "#treinando o modelo usando RNA com hold-out e mostrando as metricas\n",
    "set.seed(2034)\n",
    "rna <- train(biomassa ~ ., data = treino, method = \"nnet\", linout = TRUE, trace = FALSE)\n",
    "rna\n",
    "\n",
    "#fazendo a predicaõ na base de teste\n",
    "predito_rna <- predict(rna, teste)\n",
    "\n",
    "\n",
    "#apresentando as metricas\n",
    "metricas(teste$biomassa, predito_rna, ncol(teste) - 1)\n"
   ]
  },
  {
   "cell_type": "code",
   "execution_count": 9,
   "metadata": {
    "vscode": {
     "languageId": "r"
    }
   },
   "outputs": [
    {
     "name": "stderr",
     "output_type": "stream",
     "text": [
      "Warning message in nominalTrainWorkflow(x = x, y = y, wts = weights, info = trainInfo, :\n",
      "\"There were missing values in resampled performance measures.\"\n"
     ]
    },
    {
     "data": {
      "text/plain": [
       "Neural Network \n",
       "\n",
       "240 samples\n",
       "  3 predictor\n",
       "\n",
       "No pre-processing\n",
       "Resampling: Cross-Validated (10 fold) \n",
       "Summary of sample sizes: 216, 216, 216, 216, 216, 216, ... \n",
       "Resampling results across tuning parameters:\n",
       "\n",
       "  size  decay  RMSE      Rsquared   MAE     \n",
       "  1     0e+00  656.5198  0.9698593  378.2633\n",
       "  1     1e-04  763.3930  0.3826326  437.2020\n",
       "  1     1e-01  595.6204  0.8034714  293.2357\n",
       "  3     0e+00  810.2057        NaN  443.3283\n",
       "  3     1e-04  716.1820  0.4091068  389.5675\n",
       "  3     1e-01  489.4655  0.8039717  226.3929\n",
       "  5     0e+00  887.4377  0.1818292  450.8269\n",
       "  5     1e-04  758.3014  0.4673458  408.7426\n",
       "  5     1e-01  539.6661  0.8803846  212.4527\n",
       "\n",
       "RMSE was used to select the optimal model using the smallest value.\n",
       "The final values used for the model were size = 3 and decay = 0.1."
      ]
     },
     "metadata": {},
     "output_type": "display_data"
    },
    {
     "name": "stdout",
     "output_type": "stream",
     "text": [
      "R²: 0.7689618 \n",
      "Syx: 1190.188 \n",
      "Pearson: 0.9845222 \n",
      "RMSE: 1160.052 \n",
      "MAE: 244.9104 \n"
     ]
    }
   ],
   "source": [
    "#treinando o modelo usando RNA com crossvalidation e mostrando as metricas\n",
    "set.seed(2034)\n",
    "ctrl <- trainControl(method = \"cv\", number = 10)\n",
    "rna <- train(biomassa ~ ., data = treino, method = \"nnet\", linout = TRUE, trace = FALSE, trControl = ctrl)\n",
    "rna\n",
    "\n",
    "#fazendo a predicaõ na base de teste\n",
    "predito_rna <- predict(rna, teste)\n",
    "\n",
    "#apresentando as metricas\n",
    "metricas(teste$biomassa, predito_rna, ncol(teste) - 1)\n"
   ]
  },
  {
   "cell_type": "markdown",
   "metadata": {},
   "source": [
    "### SVM com hold-out e crossvalidation\n",
    "---"
   ]
  },
  {
   "cell_type": "code",
   "execution_count": 10,
   "metadata": {
    "vscode": {
     "languageId": "r"
    }
   },
   "outputs": [
    {
     "data": {
      "text/plain": [
       "Support Vector Machines with Radial Basis Function Kernel \n",
       "\n",
       "240 samples\n",
       "  3 predictor\n",
       "\n",
       "No pre-processing\n",
       "Resampling: Bootstrapped (25 reps) \n",
       "Summary of sample sizes: 240, 240, 240, 240, 240, 240, ... \n",
       "Resampling results across tuning parameters:\n",
       "\n",
       "  C    sigma  RMSE      Rsquared   MAE     \n",
       "    1  0.015  453.6097  0.8755930  147.7669\n",
       "    1  0.021  443.7960  0.8690152  143.4460\n",
       "    1  0.200  539.2662  0.7458264  142.0678\n",
       "    2  0.015  403.7552  0.8906118  137.1970\n",
       "    2  0.021  403.4320  0.8828341  132.6235\n",
       "    2  0.200  508.6916  0.7772066  141.2469\n",
       "   10  0.015  358.1557  0.9053336  120.5798\n",
       "   10  0.021  372.0385  0.8971864  121.4957\n",
       "   10  0.200  503.2450  0.7839639  145.1076\n",
       "   50  0.015  349.4730  0.9109133  117.9506\n",
       "   50  0.021  354.5228  0.9071668  118.9860\n",
       "   50  0.200  508.4078  0.7587782  150.0395\n",
       "  100  0.015  345.0184  0.9126019  118.3573\n",
       "  100  0.021  343.2457  0.9135753  118.9191\n",
       "  100  0.200  512.6654  0.7501992  154.1307\n",
       "\n",
       "RMSE was used to select the optimal model using the smallest value.\n",
       "The final values used for the model were sigma = 0.021 and C = 100."
      ]
     },
     "metadata": {},
     "output_type": "display_data"
    },
    {
     "name": "stdout",
     "output_type": "stream",
     "text": [
      "R²: 0.9622214 \n",
      "Syx: 481.2785 \n",
      "Pearson: 0.9981336 \n",
      "RMSE: 469.0922 \n",
      "MAE: 127.2661 \n"
     ]
    }
   ],
   "source": [
    "#treinando o modelo usando svm com hold-out e mostrando as metricas\n",
    "set.seed(2034)\n",
    "tune_grid <- expand.grid(C = c(1, 2, 10, 50, 100), sigma = c(.021, .015, 0.2))\n",
    "\n",
    "svm <- train(biomassa ~ ., data = treino, method = \"svmRadial\", tuneGrid = tune_grid)\n",
    "svm\n",
    "\n",
    "#fazendo a predicaõ na base de teste\n",
    "predito_svm <- predict(svm, teste)\n",
    "\n",
    "#apresentando as metricas\n",
    "metricas(teste$biomassa, predito_svm, ncol(teste) - 1)\n"
   ]
  },
  {
   "cell_type": "code",
   "execution_count": 11,
   "metadata": {
    "vscode": {
     "languageId": "r"
    }
   },
   "outputs": [
    {
     "data": {
      "text/plain": [
       "Support Vector Machines with Radial Basis Function Kernel \n",
       "\n",
       "240 samples\n",
       "  3 predictor\n",
       "\n",
       "No pre-processing\n",
       "Resampling: Cross-Validated (10 fold) \n",
       "Summary of sample sizes: 216, 216, 216, 216, 216, 216, ... \n",
       "Resampling results across tuning parameters:\n",
       "\n",
       "  C    sigma  RMSE      Rsquared   MAE     \n",
       "    1  0.015  348.7853  0.9174187  155.6798\n",
       "    1  0.021  335.2484  0.9216866  151.7858\n",
       "    1  0.200  370.4957  0.9143780  145.0972\n",
       "    2  0.015  314.9185  0.9260421  146.0075\n",
       "    2  0.021  312.5556  0.9316658  140.0783\n",
       "    2  0.200  345.3653  0.9256684  138.5301\n",
       "   10  0.015  283.6193  0.9424587  122.7834\n",
       "   10  0.021  294.4389  0.9451010  120.6915\n",
       "   10  0.200  309.3795  0.9445610  132.0466\n",
       "   50  0.015  305.1771  0.9391301  121.8567\n",
       "   50  0.021  306.2220  0.9360425  125.2683\n",
       "   50  0.200  326.4245  0.9360100  136.7059\n",
       "  100  0.015  302.3510  0.9357033  123.7064\n",
       "  100  0.021  278.3912  0.9443352  114.9312\n",
       "  100  0.200  312.4530  0.9331025  136.3111\n",
       "\n",
       "RMSE was used to select the optimal model using the smallest value.\n",
       "The final values used for the model were sigma = 0.021 and C = 100."
      ]
     },
     "metadata": {},
     "output_type": "display_data"
    },
    {
     "name": "stdout",
     "output_type": "stream",
     "text": [
      "R²: 0.9622214 \n",
      "Syx: 481.2785 \n",
      "Pearson: 0.9981336 \n",
      "RMSE: 469.0922 \n",
      "MAE: 127.2661 \n"
     ]
    }
   ],
   "source": [
    "#treinando o modelo usando svm com crossvalidation e mostrando as metricas\n",
    "set.seed(2034)\n",
    "tune_grid <- expand.grid(C = c(1, 2, 10, 50, 100), sigma = c(.021, .015, 0.2))\n",
    "ctrl <- trainControl(method = \"cv\", number = 10)\n",
    "\n",
    "svm <- train(biomassa ~ ., data = treino, method = \"svmRadial\", tuneGrid = tune_grid, trControl = ctrl)\n",
    "svm\n",
    "\n",
    "#fazendo a predicaõ na base de teste\n",
    "predito_svm <- predict(svm, teste)\n",
    "\n",
    "#apresentando as metricas\n",
    "metricas(teste$biomassa, predito_svm, ncol(teste) - 1)\n"
   ]
  },
  {
   "cell_type": "markdown",
   "metadata": {},
   "source": [
    "### Random Forest com hold-out e Crossvalidation\n",
    "---"
   ]
  },
  {
   "cell_type": "code",
   "execution_count": 12,
   "metadata": {
    "vscode": {
     "languageId": "r"
    }
   },
   "outputs": [
    {
     "name": "stdout",
     "output_type": "stream",
     "text": [
      "note: only 2 unique complexity parameters in default grid. Truncating the grid to 2 .\n",
      "\n"
     ]
    },
    {
     "data": {
      "text/plain": [
       "Random Forest \n",
       "\n",
       "240 samples\n",
       "  3 predictor\n",
       "\n",
       "No pre-processing\n",
       "Resampling: Bootstrapped (25 reps) \n",
       "Summary of sample sizes: 240, 240, 240, 240, 240, 240, ... \n",
       "Resampling results across tuning parameters:\n",
       "\n",
       "  mtry  RMSE      Rsquared   MAE     \n",
       "  2     351.5679  0.8983700  107.9245\n",
       "  3     356.9337  0.8898555  112.3243\n",
       "\n",
       "RMSE was used to select the optimal model using the smallest value.\n",
       "The final value used for the model was mtry = 2."
      ]
     },
     "metadata": {},
     "output_type": "display_data"
    },
    {
     "name": "stdout",
     "output_type": "stream",
     "text": [
      "R²: 0.6539241 \n",
      "Syx: 1456.664 \n",
      "Pearson: 0.9610971 \n",
      "RMSE: 1419.78 \n",
      "MAE: 237.9854 \n"
     ]
    }
   ],
   "source": [
    "#treinando o modelo usando svm com hold-out e mostrando as metricas\n",
    "set.seed(2034)\n",
    "\n",
    "rf <- train(biomassa ~ ., data = treino, method = \"rf\")\n",
    "rf\n",
    "\n",
    "#fazendo a predicaõ na base de teste\n",
    "predito_rf <- predict(rf, teste)\n",
    "\n",
    "#apresentando as metricas\n",
    "metricas(teste$biomassa, predito_rf, ncol(teste) - 1)\n"
   ]
  },
  {
   "cell_type": "code",
   "execution_count": 13,
   "metadata": {
    "vscode": {
     "languageId": "r"
    }
   },
   "outputs": [
    {
     "name": "stdout",
     "output_type": "stream",
     "text": [
      "note: only 2 unique complexity parameters in default grid. Truncating the grid to 2 .\n",
      "\n"
     ]
    },
    {
     "data": {
      "text/plain": [
       "Random Forest \n",
       "\n",
       "240 samples\n",
       "  3 predictor\n",
       "\n",
       "No pre-processing\n",
       "Resampling: Cross-Validated (10 fold) \n",
       "Summary of sample sizes: 216, 216, 216, 216, 216, 216, ... \n",
       "Resampling results across tuning parameters:\n",
       "\n",
       "  mtry  RMSE      Rsquared   MAE     \n",
       "  2     303.4196  0.9521672  111.5531\n",
       "  3     307.9688  0.9537189  112.8936\n",
       "\n",
       "RMSE was used to select the optimal model using the smallest value.\n",
       "The final value used for the model was mtry = 2."
      ]
     },
     "metadata": {},
     "output_type": "display_data"
    },
    {
     "name": "stdout",
     "output_type": "stream",
     "text": [
      "R²: 0.6527128 \n",
      "Syx: 1459.211 \n",
      "Pearson: 0.9577396 \n",
      "RMSE: 1422.263 \n",
      "MAE: 236.9633 \n"
     ]
    }
   ],
   "source": [
    "#treinando o modelo usando svm com crossvalidarion e mostrando as metricas\n",
    "set.seed(2034)\n",
    "ctrl <- trainControl(method = \"cv\", number = 10)\n",
    "rf <- train(biomassa ~ ., data = treino, method = \"rf\", trControl = ctrl)\n",
    "rf\n",
    "\n",
    "#fazendo a predicaõ na base de teste\n",
    "predito_rf <- predict(rf, teste)\n",
    "\n",
    "#apresentando as metricas\n",
    "metricas(teste$biomassa, predito_rf, ncol(teste) - 1)\n"
   ]
  }
 ],
 "metadata": {
  "kernelspec": {
   "display_name": "R",
   "language": "R",
   "name": "ir"
  },
  "language_info": {
   "codemirror_mode": "r",
   "file_extension": ".r",
   "mimetype": "text/x-r-source",
   "name": "R",
   "pygments_lexer": "r",
   "version": "4.4.1"
  }
 },
 "nbformat": 4,
 "nbformat_minor": 2
}
